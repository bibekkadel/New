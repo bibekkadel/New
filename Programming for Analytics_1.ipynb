{
 "cells": [
  {
   "cell_type": "markdown",
   "metadata": {},
   "source": [
    "### Question 1.\n",
    "\n",
    "Please develop a program that starts by taking an integer representing seconds (e.g. 100 means 100 seconds) from the user. Then your program should display the equivalent amount of time in the format of D:H:M:S, where D, H, M, and S represent days, hours, minutes and seconds, respectively. \n",
    "\n",
    "For example, <code>1000000</code> seconds is equivalent to <code>11:13:46:40</code>.\n",
    "\n",
    "**Hint**: There are 24 * 60 * 60 seconds in a day. You can first calculate how many full days there are and keep the *remaining* seconds for further processing."
   ]
  },
  {
   "cell_type": "code",
   "execution_count": 19,
   "metadata": {},
   "outputs": [
    {
     "name": "stdout",
     "output_type": "stream",
     "text": [
      "Please enter time in seconds:1000000\n",
      "11 : 13 : 46 : 40\n"
     ]
    }
   ],
   "source": [
    "seconds=int(input('Please enter time in seconds:')) ## asks user to input a value i.e. time in seconds\n",
    "days=int(seconds/86400)\n",
    "seconds=seconds%86400\n",
    "hours=int(seconds/3600)\n",
    "seconds=seconds%3600\n",
    "minutes=int(seconds/60)\n",
    "seconds=seconds%60\n",
    "print(days,\":\",hours,\":\",minutes,\":\",seconds)\n",
    "\n",
    "## as hinted in the description, here i have used 86400 seconds in day, 3600 seconds in an hour and 60 seconds in a minute to determine the seconds entered into the format day:hr:m:s.\n",
    "## here, first the number of days is calculated and the remainder is used in calculating the hours. Similarly, the remaineder after calculating the hour is due to determine the minutes. \n"
   ]
  },
  {
   "cell_type": "markdown",
   "metadata": {},
   "source": [
    "### Question 2.\n",
    "\n",
    "A year is usually divided into four seasons: Spring, Summer, Fall and Winter. Although the exact dates at which the season changes vary slightly from year to year because of the way that the calendar is constructed, we can use the following **starting dates** for simplicity:\n",
    "- Spring: March 20\n",
    "- Summer: June 21\n",
    "- Autumn: September 22\n",
    "- Winter: December 21\n",
    "\n",
    "Please create a program that takes a month and a day seperately from the user. The user will first enter the name of the month (as a string), then the day within the month (as an integer). Your program should display the corresponding season to the date that has been entered."
   ]
  },
  {
   "cell_type": "code",
   "execution_count": 10,
   "metadata": {},
   "outputs": [
    {
     "name": "stdout",
     "output_type": "stream",
     "text": [
      "Please choose a month:april\n",
      "Please Choose a date:21\n",
      "Spring\n"
     ]
    }
   ],
   "source": [
    "months = {'january':1, \n",
    "          'february':2,\n",
    "          'march':3, \n",
    "          'april': 4, \n",
    "          'may': 5, \n",
    "          'june':6, \n",
    "          'july':7, \n",
    "          'august': 8, \n",
    "          'september':9, \n",
    "          'october':10, \n",
    "          'november':11, \n",
    "          'december':12}\n",
    "\n",
    "## here i have used dictionary. This program could be written even without the dictionary with if,elif and else statements with more words (months name) to write,\n",
    "# i thought it would be easier to work with numbers (months number) rather. \n",
    "\n",
    "month = months[input ('Please choose a month:').lower()]  ## asks user to input a month.\n",
    "day = int(input ('Please Choose a date:')) ## asks user to input a day\n",
    "if month <=2 or month ==3 and day<20 or month==12 and day>=21: ## defining condition for dec, jan, feb and mar. Here, days from dec 21 to mar 19 have been tagged under winter season \n",
    "    print ('Winter') \n",
    "elif month == 3 and day >= 20 or month <=5 or month == 6 and day<21: ## defining condition for mar, apr, may and june. Here, days from mar 20  and june 20 has been tagged under spring. \n",
    "    print ('Spring') \n",
    "elif month == 6 and day >= 21 or month <= 8 or month == 9 and day<22: ## defining condition for Jun,Jul,Aug and Sep. Here, days from Jun 21  and Sep 21 has been tagged under summer season. \n",
    "    print ('Summer') \n",
    "else: \n",
    "    print ('Autumn') ## defining condition rest of the months and tagging them under autumn.\n",
    "    \n",
    "    \n",
    "## The above codes with the use of if, elif and else control statements ranges months with exact dates to the four seasons as defined. \n"
   ]
  },
  {
   "cell_type": "markdown",
   "metadata": {},
   "source": [
    "### Question 3.\n",
    "\n",
    "A zoo determines the price of admission based on the age of the guest:\n",
    "\n",
    " - Guests of 2 years old or less are admitted without charge.\n",
    " - Children between 3 and 12 years of age (both inclusive) cost 14.00 euro per person.\n",
    " - Seniors aged 65 years or over cost 18.00 euro per person.\n",
    " - Admission charge for all other guests is 23.00 euro per person.\n",
    "\n",
    "You will be given a list of ages of a group visiting the zoo. Please create a program that displays the total admission cost for the group."
   ]
  },
  {
   "cell_type": "code",
   "execution_count": 17,
   "metadata": {},
   "outputs": [
    {
     "name": "stdout",
     "output_type": "stream",
     "text": [
      "The total admission cost for the group is 92 .\n"
     ]
    }
   ],
   "source": [
    "age_list = [3, 33, 42, 70, 1, 10] # the program should give the total for the ages listed.\n",
    "\n",
    "#Index List:\n",
    "    \n",
    "    # I=infant (age<=2)\n",
    "    # C=child (age >2 and <=12)\n",
    "    # S=senior (age > 65)\n",
    "    # O=Other (other aged people )\n",
    "\n",
    "O,S,C,I=0,0,0,0 \n",
    "\n",
    "for age in age_list: ## using 'for' loop to iterate elements through a list.\n",
    "        \n",
    "    if age <= 2: I = I+1 ## adds number of infant if the age is less or equal to 2\n",
    "        \n",
    "    elif age <=12: C = C+1  ##adds number of child if the age is >2 and <=12\n",
    "       \n",
    "    elif age >=65: S = S+1 ##adds number of senior if the age is >=65\n",
    "        \n",
    "    else: O = O+1 ##if every above conditions are false, adds adult number\n",
    "     \n",
    "cost = I*0 + C*14 + S*18 + O*23 ## determining the admission cost by multiplying each category with the price. \n",
    "print ('The total admission cost for the group is', cost, '.') \n"
   ]
  },
  {
   "cell_type": "markdown",
   "metadata": {},
   "source": [
    "### Question 4.\n",
    "\n",
    "In the game of Scrabble, each letter has points associated with it. The total score of a word is the sum of the scores of its letters. More common letters are worth fewer points while less common letters are worth more points. The points associated with each letter are given below as a dictionary. \n",
    "\n",
    "Please write a program that takes a word from the user, then computes and displays the Scrabble score for this word.\n",
    "\n",
    "Note: A Scrabble board includes some squares that multiply the value of a letter or the value of an entire word. For simplicity, we will ignore these squares in this exercise."
   ]
  },
  {
   "cell_type": "code",
   "execution_count": 18,
   "metadata": {},
   "outputs": [
    {
     "name": "stdout",
     "output_type": "stream",
     "text": [
      "Enter the word: bibek\n",
      "13\n"
     ]
    }
   ],
   "source": [
    "letter_to_point = {\"A\":1, \"B\":3, \"C\":3, \"D\":2, \"E\":1, \"F\":4, \\\n",
    "                   \"G\":2, \"H\":4, \"I\":1, \"J\":2, \"K\":5, \"L\":1, \\\n",
    "                   \"M\":3, \"N\":1, \"O\":1, \"P\":3, \"Q\":10,\"R\":1, \\\n",
    "                   \"S\":1, \"T\":1, \"U\":1, \"V\":4, \"W\":4, \"X\":8, \\\n",
    "                   \"Y\":4, \"Z\":10}\n",
    "\n",
    "word = input ('Enter the word: ').upper()  ##asks user to enter a word. upper() has been used as the elements in dictionary are in upper case.\n",
    "score = 0\n",
    "for points in word: ## 'for' statement will iterate each element from the input word.\n",
    "    score = letter_to_point[points]+score ## here, value is added to each letter (of the input word)\n",
    "print (score) \n",
    "    \n"
   ]
  },
  {
   "cell_type": "markdown",
   "metadata": {},
   "source": [
    "### Question 5.\n",
    "\n",
    "Please extract 'hello' from the following nested dictionary using **indexing**."
   ]
  },
  {
   "cell_type": "code",
   "execution_count": 1,
   "metadata": {},
   "outputs": [
    {
     "name": "stdout",
     "output_type": "stream",
     "text": [
      "[1, 'two', {'level_2': ['you are close', {'almost there': ['one', 2, ['hello']]}]}]\n",
      "{'level_2': ['you are close', {'almost there': ['one', 2, ['hello']]}]}\n",
      "['you are close', {'almost there': ['one', 2, ['hello']]}]\n",
      "{'almost there': ['one', 2, ['hello']]}\n",
      "['one', 2, ['hello']]\n",
      "['hello']\n"
     ]
    }
   ],
   "source": [
    "nested_dict = {'level_1':[1, 'two', {'level_2':['you are close', {'almost there':['one', 2, ['hello']]}]}]}\n",
    "\n",
    "print(nested_dict['level_1'])## extracts the list under level_1.\n",
    "print(nested_dict['level_1'][2]) ## extracts the 3rd element from the dictionary 'level_2'\n",
    "print(nested_dict['level_1'][2]['level_2']) ## extracts 2 other elements.\n",
    "print(nested_dict['level_1'][2]['level_2'][1])## extracts the second element from the dictionary of 3 elements\n",
    "print(nested_dict['level_1'][2]['level_2'][1]['almost there']) ## extracts the elements from the dictionary with 3 elements,'one, 2 and hello'\n",
    "\n",
    "print(nested_dict['level_1'][2]['level_2'][1]['almost there'][2]) ## extracts the third element from the list i.e. hello\n",
    "\n",
    "## starting from 'level_1',i have tried extracting elements uder each tag as shown above. "
   ]
  }
 ],
 "metadata": {
  "kernelspec": {
   "display_name": "Python 3 (ipykernel)",
   "language": "python",
   "name": "python3"
  },
  "language_info": {
   "codemirror_mode": {
    "name": "ipython",
    "version": 3
   },
   "file_extension": ".py",
   "mimetype": "text/x-python",
   "name": "python",
   "nbconvert_exporter": "python",
   "pygments_lexer": "ipython3",
   "version": "3.8.16"
  }
 },
 "nbformat": 4,
 "nbformat_minor": 4
}
