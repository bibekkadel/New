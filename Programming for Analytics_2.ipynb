{
 "cells": [
  {
   "cell_type": "markdown",
   "metadata": {},
   "source": [
    "### Question 1. <code>leap_year()</code>\n",
    "\n",
    "Most years have 365 days. However, the time required for the Earth to orbit the Sun is actually slightly more than that. As a result, an extra day, February 29, is included in some years to correct for this difference. Such years are referred to as leap years.\n",
    "\n",
    "The rules for determining whether or not a year is a leap year is as follows:\n",
    " - Any year that is divisible by 400 is a leap year.\n",
    " - Of the remaining years, any year that is divisible by 100 is not a leap year.\n",
    " - Of the remaining years, any year that is divisible by 4 is a leap year.\n",
    " - All other years are not leap years.\n",
    " \n",
    "Please write a function, <code>leap_year()</code>, which has one argument representing the year. Your function should **return** <code>True</code> if the input year is a leap year, and <code>False</code> otherwise."
   ]
  },
  {
   "cell_type": "code",
   "execution_count": 14,
   "metadata": {},
   "outputs": [],
   "source": [
    "\n",
    "def leap_year(year):\n",
    "    \n",
    " ##checking if the year is leap year or not using the rules given in the question.   \n",
    "    if year%400==0: \n",
    "        return True  ## if the year is divisible by 400, returns the year as true (i.e. is a leap year)\n",
    "    elif year%100==0:\n",
    "        return False  ## if the year is divisible by 100, returns. the year as false (i.e. not a leap year)\n",
    "    elif year%4==0:\n",
    "        return True  ## if the year is divisible by 4, return the year as true (i.e. is a leap year)\n",
    "    else:\n",
    "        return False ## return false if above conditions not fulfilled."
   ]
  },
  {
   "cell_type": "code",
   "execution_count": 15,
   "metadata": {},
   "outputs": [
    {
     "name": "stdout",
     "output_type": "stream",
     "text": [
      "False\n",
      "False\n",
      "False\n",
      "False\n",
      "False\n",
      "False\n",
      "False\n",
      "False\n",
      "\n",
      "\n",
      "True\n",
      "True\n",
      "True\n",
      "True\n",
      "True\n"
     ]
    }
   ],
   "source": [
    "not_leap_year_list = [1700, 1800, 1900, 2100, 2200, 2300, 2500, 2600]\n",
    "\n",
    "for year in not_leap_year_list:\n",
    "    print(leap_year(year))\n",
    "    \n",
    "print(\"\\n\")\n",
    "\n",
    "leap_year_list = [1600, 2000, 2400, 1992, 2008]\n",
    "    \n",
    "for year in leap_year_list:\n",
    "    print(leap_year(year))\n",
    "    \n",
    "\n",
    "## The output returned by the commands in this code cell should look like the following:\n",
    "##\n",
    "## False\n",
    "## False\n",
    "## False\n",
    "## False\n",
    "## False\n",
    "## False\n",
    "## False\n",
    "## False\n",
    "##\n",
    "##\n",
    "## True\n",
    "## True\n",
    "## True\n",
    "## True\n",
    "## True"
   ]
  },
  {
   "cell_type": "markdown",
   "metadata": {},
   "source": [
    "### Question 2. <code>valid_license_plate()</code>\n",
    "\n",
    "In a particular jurisdiction, older license plates consist of three uppercase letters followed by three numbers. When all of the license plates following that pattern had been used, the format was changed to four numbers followed by three uppercase letters (newer style license plate).\n",
    "\n",
    "Please write a function, <code>valid_license_plate()</code>, which takes a string representing the license as the argument. Then your function should **print** a message indicating whether the string entered is valid for an older style license plate or a newer style license plate. Your function should **print** an appropriate message if the string entered is not valid for either style of license plate.\n",
    "\n",
    "**Hint**: When the conditional part of an <code>if</code> statement is too long, you can use backslash <code>\\\\</code> as the line break. Or, you can group the conditional part within parentheses <code>()</code>, and break it over multiple lines."
   ]
  },
  {
   "cell_type": "markdown",
   "metadata": {},
   "source": [
    "**the program asks user to enter license plate and check if it is valid or not. Also, the program checks the validaity of liscence plate from the dictionary given below.**"
   ]
  },
  {
   "cell_type": "code",
   "execution_count": 12,
   "metadata": {},
   "outputs": [
    {
     "name": "stdout",
     "output_type": "stream",
     "text": [
      "Enter the license plate: ABC123\n",
      "Valid older style license plate\n"
     ]
    }
   ],
   "source": [
    "plate=input('Enter the license plate: ') ## asks user to input license plate\n",
    "def valid_license_plate (plate):\n",
    "    if len (plate)==6 and \\\n",
    "plate[0]>=\"A\" and plate[0]<=\"Z\" and \\\n",
    "plate[1]>=\"A\" and plate[1]<=\"Z\" and \\\n",
    "plate[2]>=\"A\" and plate[2]<=\"Z\" and \\\n",
    "plate[3]>=\"0\" and plate[3]<=\"9\" and \\\n",
    "plate[4]>=\"0\" and plate[4]<=\"9\" and \\\n",
    "plate[5]>=\"0\" and plate[5]<=\"9\":        ## checks if the license plate has 6 character and follows the rule as defined above.\n",
    "        print(\"Valid older style license plate\") ## if the license plate is of 6 character and follows the above defined rule, return 'valid newer license plate'\n",
    "    elif len(plate)==7 and \\\n",
    "plate[0]>=\"0\" and plate[0]<=\"9\" and \\\n",
    "plate[1]>=\"0\" and plate[1]<=\"9\" and \\\n",
    "plate[2]>=\"0\" and plate[2]<=\"9\" and \\\n",
    "plate[3]>=\"0\" and plate[3]<=\"9\" and \\\n",
    "plate[4]>=\"A\" and plate[4]<=\"Z\" and \\\n",
    "plate[5]>=\"A\" and plate[5]<=\"Z\" and \\\n",
    "plate[6]>=\"A\" and plate[6]<=\"Z\":        ## checks if the license plate has 7 character and follows the rule as defined above. \n",
    "        print(\"Valid newer style license plate\")   ## if the license plate is of 7 character and follows the above defined rule, return 'valid newer license plate'\n",
    "    else:\n",
    "        print(\"Invalid license plate\")   ## if the license plate do not follow any of the above defined rules, returns invalid license plate.\n",
    "        \n",
    "valid_license_plate (plate)  "
   ]
  },
  {
   "cell_type": "code",
   "execution_count": 13,
   "metadata": {},
   "outputs": [
    {
     "name": "stdout",
     "output_type": "stream",
     "text": [
      "Invalid license plate\n",
      "Invalid license plate\n",
      "Invalid license plate\n",
      "Invalid license plate\n",
      "Invalid license plate\n",
      "Invalid license plate\n",
      "Invalid license plate\n",
      "Invalid license plate\n",
      "Invalid license plate\n",
      "Invalid license plate\n",
      "Invalid license plate\n",
      "Invalid license plate\n",
      "Invalid license plate\n",
      "\n",
      "\n",
      "Valid older style license plate\n",
      "Valid older style license plate\n",
      "Valid newer style license plate\n",
      "Valid newer style license plate\n"
     ]
    }
   ],
   "source": [
    "invalid_plate = ['AB123', 'aBC123', 'AB1234', 'ABCD12', 'AB%123', 'ABC12/', \n",
    "                 'ABC1234', 'ABCD123', '123ABCD', '123ABC', '1234AB', '123€ABC', '1234AB&']\n",
    "\n",
    "for plate in invalid_plate:\n",
    "    valid_license_plate(plate)\n",
    "    \n",
    "print(\"\\n\")\n",
    "\n",
    "valid_plate = ['ABC123', 'GHN492', '4639IUG', '0814OAT']\n",
    "\n",
    "for plate in valid_plate:\n",
    "    valid_license_plate(plate)\n",
    "    \n",
    "\n",
    "## The output returned by the commands in this code cell should look like the following:\n",
    "##\n",
    "## Invalid license plate\n",
    "## Invalid license plate\n",
    "## Invalid license plate\n",
    "## Invalid license plate\n",
    "## Invalid license plate\n",
    "## Invalid license plate\n",
    "## Invalid license plate\n",
    "## Invalid license plate\n",
    "## Invalid license plate\n",
    "## Invalid license plate\n",
    "## Invalid license plate\n",
    "## Invalid license plate\n",
    "## Invalid license plate\n",
    "##\n",
    "##\n",
    "## Valid older style license plate\n",
    "## Valid older style license plate\n",
    "## Valid newer style license plate\n",
    "## Valid newer style license plate"
   ]
  },
  {
   "cell_type": "markdown",
   "metadata": {},
   "source": [
    "### Question 3. <code>morse_to_text()</code>\n",
    "\n",
    "Please write a function <code>morse_to_text()</code>, which can interpret the input Morse code to text. That is, the function should **return** the text as a string.\n",
    "\n",
    "Note that Morse characters of the same word are separated by one space, and words (given in terms of Morse characters) are separated by four spaces.\n",
    "\n",
    "**Hint**: The <code>.split()</code> method could be useful."
   ]
  },
  {
   "cell_type": "code",
   "execution_count": 7,
   "metadata": {},
   "outputs": [],
   "source": [
    "## The following dictionary maps each Morse character to one Latin character.\n",
    "\n",
    "## First, please run this code cell without modifying anything in it.\n",
    "\n",
    "\n",
    "morse_to_latin_dict = {'.-': 'A', '-...': 'B', '-.-.': 'C', '-..': 'D', \\\n",
    "                       '.': 'E', '..-.': 'F', '--.': 'G', '....': 'H', \\\n",
    "                       '..': 'I', '.---': 'J', '-.-': 'K', '.-..': 'L', \\\n",
    "                       '--': 'M', '-.': 'N', '---': 'O', '.--.': 'P', \\\n",
    "                       '--.-': 'Q', '.-.': 'R', '...': 'S', '-': 'T', \\\n",
    "                       '..-': 'U', '...-': 'V', '.--': 'W', '-..-': 'X', \\\n",
    "                       '-.--': 'Y', '--..': 'Z', '.----': '1', '..---': '2', \\\n",
    "                       '...--': '3', '....-': '4', '.....': '5', '-....': '6', \\\n",
    "                       '--...': '7', '---..': '8', '----.': '9', '-----': '0', \\\n",
    "                       '--..--': ',', '.-.-.-': '.', '..--..': '?', '-.-.-': ';', \\\n",
    "                       '---...': ':', '-..-.': '/', '-....-': '-', '.----.': \"'\", \\\n",
    "                       '-.--.-': '(', '..--.-': '_', '-.-.--': '!'}\n",
    "\n",
    "\n",
    "## Note: The Morse character '-.--.-' represents '(', ')', '[', ']', '{' or '}'."
   ]
  },
  {
   "cell_type": "code",
   "execution_count": 8,
   "metadata": {},
   "outputs": [],
   "source": [
    "def morse_to_text(morsecode):          #creating a function to convert morse code to text\n",
    "    word =''                           #creating blank string\n",
    "    text = morsecode.split ('    ')    #spliting after 4 spaces and storing word as lists\n",
    "    for letter in text:                #Extracting each of the list element and storing it to letter variable\n",
    "        character = letter.split (' ') #spliting each letter from the word with once space\n",
    "        for morse in character:        ## used here for iterating\n",
    "            word = word+morse_to_latin_dict [morse]\n",
    "        word = word + ' '    # adding space after each word\n",
    "    return (word)            # returning the word  \n"
   ]
  },
  {
   "cell_type": "code",
   "execution_count": 9,
   "metadata": {},
   "outputs": [
    {
     "name": "stdout",
     "output_type": "stream",
     "text": [
      "PROGRAMMING FOR ANALYTICS \n",
      "HI THERE! \n",
      "A SERIES OF DOTS AND DASHES IS MORSE CODE. \n"
     ]
    }
   ],
   "source": [
    "## Test your function with the following Morse codes (NOTE: Please do NOT modify the Morse codes):\n",
    "\n",
    "\n",
    "print(morse_to_text('.--. .-. --- --. .-. .- -- -- .. -. --.    ..-. --- .-.    .- -. .- .-.. -.-- - .. -.-. ...'))\n",
    "\n",
    "print(morse_to_text('.... ..    - .... . .-. . -.-.--'))\n",
    "\n",
    "print(morse_to_text('.-    ... . .-. .. . ...    --- ..-.    -.. --- - ...    .- -. -..    -.. .- ... .... . ...    .. ...    -- --- .-. ... .    -.-. --- -.. . .-.-.-'))\n",
    "\n",
    "\n",
    "## The texts corresponding to the given Morse codes are as follows:\n",
    "##\n",
    "## PROGRAMMING FOR ANALYTICS \n",
    "## HI THERE! \n",
    "## A SERIES OF DOTS AND DASHES IS MORSE CODE."
   ]
  },
  {
   "cell_type": "markdown",
   "metadata": {},
   "source": [
    "### Question 4. <code>moving_average()</code>\n",
    "\n",
    "Moving average is a widely used method in forecasting and time series analysis. To predict a future value, it takes the average of the previous $k$ observations. Please create a function <code>moving_average()</code> that takes a list of values, <code>L</code>, and an integer indicating the value of $k$. You function should perform the corresponding moving average forecasting, **print** all the forecasted values, and then **print** the total squared error of the forecast.\n",
    "\n",
    "You can use the following steps in your function, and let's use $k = 2$ as an example:\n",
    "* First, the function generates a list of forecasted values, <code>L_f</code>, as follows: \n",
    "  * The first two forecasted values (as $k = 2$ in this example) in <code>L_f</code> are the same as the first two values in the original list <code>L</code>, *i.e.*, <code>L_f[0] = L[0]</code> and <code>L_f[1] = L[1]</code>.\n",
    "  * The following forecasted values in <code>L_f</code> will be the average of the previous two values (as $k = 2$ in this example) from the original list <code>L</code>, *i.e.*, <code>L_f[t] = (L[t-1] + L[t-2])/2</code>.\n",
    "  * For example, if the original list is <code>L = [6,8,4,9,3,7]</code>, the first two values in <code>L_f</code> will be 6 and 8 as in the original list <code>L</code>, then <code>L_f[2] = (6 + 8)/2</code>, <code>L_f[3] = (8 + 4)/2</code> etc.\n",
    "* Calculate the forecast error <code>e_i</code> for each index <code>i</code> as <code>e_i = L[i] - L_f[i]</code>.\n",
    "* Calculate the total squared error as the sum of all the squared forecast errors.\n",
    "* For example, for <code>L = [6,8,4,9,3,7]</code> when $k = 2$:\n",
    "  * The list of forecasted values is <code>L_f = [6, 8, 7.0, 6.0, 6.5, 6.0]</code> \n",
    "  * The total squared error is $31.25$"
   ]
  },
  {
   "cell_type": "code",
   "execution_count": 4,
   "metadata": {},
   "outputs": [],
   "source": [
    "def moving_average (L, k):    ## defining the function. \n",
    "    n = 0                     ## starting index\n",
    "    moving_average_list = L[0:k] ## defining the lists to extract each character before the number of forecasted values.\n",
    "    mean_squared_error = 0       ## defining mse to store value\n",
    "    while n<len(L)-k:     ## this loop checks untill n number of character before forcasted value    \n",
    "        number = L [n:n+k]  ## extracting the storing the forcasting value in the lists \n",
    "        avg = sum (number)/k  ## moving avarge calculation\n",
    "        moving_average_list.append (avg) ## adding the average to the end of the list.\n",
    "        mean_squared_error = (L[n+k]-moving_average_list[n+k])**2+mean_squared_error  ## adding value to mean square error\n",
    "        n=n+1 ## adds 1 after iteration\n",
    "    print (moving_average_list)  ## printing moving average lists\n",
    "    print (mean_squared_error)   ## printing mean squared error\n",
    "\n",
    "\n",
    "\n"
   ]
  },
  {
   "cell_type": "code",
   "execution_count": 5,
   "metadata": {},
   "outputs": [
    {
     "name": "stdout",
     "output_type": "stream",
     "text": [
      "[6, 8, 7.0, 6.0, 6.5, 6.0]\n",
      "31.25\n"
     ]
    }
   ],
   "source": [
    "## Test your function with the following list L and assume k = 2 (NOTE: Please do NOT modify the list):\n",
    "\n",
    "\n",
    "L = [6,8,4,9,3,7]\n",
    "\n",
    "moving_average(L, 2)\n",
    "\n",
    "\n",
    "## The forecasted values and the corresponding total squared error are as follows:\n",
    "##\n",
    "## [6, 8, 7.0, 6.0, 6.5, 6.0]\n",
    "## 31.25"
   ]
  },
  {
   "cell_type": "code",
   "execution_count": 6,
   "metadata": {},
   "outputs": [
    {
     "name": "stdout",
     "output_type": "stream",
     "text": [
      "[88, 44, 66.0, 52.0, 58.0, 63.0, 80.5, 72.5, 57.0, 54.0, 41.5, 42.0, 46.5, 52.5, 64.5, 75.0, 76.5]\n",
      "3815.75\n",
      "\n",
      "\n",
      "[88, 44, 60, 64.0, 53.333333333333336, 62.0, 72.33333333333333, 71.66666666666667, 68.33333333333333, 54.0, 47.666666666666664, 44.0, 42.666666666666664, 51.333333333333336, 57.666666666666664, 70.33333333333333, 73.66666666666667]\n",
      "4197.777777777778\n",
      "\n",
      "\n",
      "[88, 44, 60, 56, 62.0, 57.5, 69.25, 67.75, 68.75, 63.25, 49.25, 48.0, 44.0, 47.25, 55.5, 63.75, 70.5]\n",
      "4618.1875\n",
      "\n",
      "\n"
     ]
    }
   ],
   "source": [
    "## Test your function again with the following list of numbers and different values of k (2,3 and 4):\n",
    "\n",
    "\n",
    "L = [88,44,60,56,70,91,54,60,48,35,49,44,61,68,82,71,50]\n",
    "\n",
    "for k in range(2,5):\n",
    "    moving_average(L, k)\n",
    "    print(\"\\n\")\n",
    "\n",
    "    \n",
    "## The forecasted values and the corresponding total squared error for each k are as follows:\n",
    "##\n",
    "## [88, 44, 66.0, 52.0, 58.0, 63.0, 80.5, 72.5, 57.0, 54.0, 41.5, 42.0, 46.5, 52.5, 64.5, 75.0, 76.5]\n",
    "## 3815.75 \n",
    "##\n",
    "##\n",
    "## [88, 44, 60, 64.0, 53.333333333333336, 62.0, 72.33333333333333, 71.66666666666667, 68.33333333333333, 54.0, 47.666666666666664, 44.0, 42.666666666666664, 51.333333333333336, 57.666666666666664, 70.33333333333333, 73.66666666666667]\n",
    "## 4197.777777777778 \n",
    "##\n",
    "##\n",
    "## [88, 44, 60, 56, 62.0, 57.5, 69.25, 67.75, 68.75, 63.25, 49.25, 48.0, 44.0, 47.25, 55.5, 63.75, 70.5]\n",
    "## 4618.1875 "
   ]
  },
  {
   "cell_type": "markdown",
   "metadata": {},
   "source": [
    "### Question 5. \n",
    "\n",
    "The conversion formula between Celsius (C) and Fahrenheit (F) is given as follows:\n",
    "\n",
    "    F = 1.8 * C + 32\n",
    "    \n",
    "Please use a **list comprehension** to convert the given list of temperatures in Celsius to Fahrenheit."
   ]
  },
  {
   "cell_type": "code",
   "execution_count": 2,
   "metadata": {},
   "outputs": [
    {
     "data": {
      "text/plain": [
       "[102.56, 97.7, 99.14, 100.03999999999999]"
      ]
     },
     "execution_count": 2,
     "metadata": {},
     "output_type": "execute_result"
    }
   ],
   "source": [
    "temperature_c = [39.2, 36.5, 37.3, 37.8]\n",
    "\n",
    "## using the list comprehension method.\n",
    "[(1.8 * temp_in_celsius) + 32 for temp_in_celsius in temperature_c]\n",
    "\n",
    "##also, we can use for loop to convert the given list of temperature in celsious to fahrenheit.\n",
    "\n",
    "## temperature_c = [39.2, 36.5, 37.3, 37.8]\n",
    "## result=[]\n",
    "## for t in temperature_c:\n",
    "##    result.append(1.8*t+32)\n",
    "## print(result)"
   ]
  },
  {
   "cell_type": "markdown",
   "metadata": {},
   "source": [
    "Please use a **lambda expression** and the <code>map()</code> function to convert the same list of temperatures in Celsius to Fahrenheit."
   ]
  },
  {
   "cell_type": "code",
   "execution_count": 3,
   "metadata": {},
   "outputs": [
    {
     "data": {
      "text/plain": [
       "[102.56, 97.7, 99.14, 100.03999999999999]"
      ]
     },
     "execution_count": 3,
     "metadata": {},
     "output_type": "execute_result"
    }
   ],
   "source": [
    "\n",
    "temperature_c = [39.2, 36.5, 37.3, 37.8]\n",
    "##using lambda expression and map() to convert the temperature in Celsius to Fahrenheit.\n",
    "##list(map(lambda temp: (1.8 * temp) + 32, temperature_c)\n",
    "\n",
    "list(map(lambda temp: 1.8 * temp+ 32, temperature_c))"
   ]
  }
 ],
 "metadata": {
  "kernelspec": {
   "display_name": "Python 3 (ipykernel)",
   "language": "python",
   "name": "python3"
  },
  "language_info": {
   "codemirror_mode": {
    "name": "ipython",
    "version": 3
   },
   "file_extension": ".py",
   "mimetype": "text/x-python",
   "name": "python",
   "nbconvert_exporter": "python",
   "pygments_lexer": "ipython3",
   "version": "3.8.16"
  }
 },
 "nbformat": 4,
 "nbformat_minor": 4
}
